{
 "cells": [
  {
   "cell_type": "markdown",
   "metadata": {},
   "source": [
    "# Import Libraries"
   ]
  },
  {
   "cell_type": "code",
   "execution_count": 1,
   "metadata": {},
   "outputs": [],
   "source": [
    "import numpy as np\n",
    "import pandas as pd\n",
    "\n",
    "import json\n",
    "from tweepy import OAuthHandler, API, Stream, StreamListener"
   ]
  },
  {
   "cell_type": "markdown",
   "metadata": {},
   "source": [
    "# Initiate Twitter Connection"
   ]
  },
  {
   "cell_type": "code",
   "execution_count": 3,
   "metadata": {},
   "outputs": [],
   "source": [
    "# Consumer API keys\n",
    "API_key        = 'GET YOUR KEYS ANDREW'\n",
    "API_secret_key = 'GET YOUR KEYS ANDREW'\n",
    "\n",
    "# Access token & access token secret\n",
    "Access_token        = 'GET YOUR KEYS ANDREW'\n",
    "Access_token_secret = 'GET YOUR KEYS ANDREW'\n",
    "\n",
    "auth = OAuthHandler(API_key, API_secret_key)\n",
    "auth.set_access_token(Access_token, Access_token_secret)\n",
    "api = API(auth)"
   ]
  },
  {
   "cell_type": "markdown",
   "metadata": {},
   "source": [
    "# Load Obama and Trump Tweets"
   ]
  },
  {
   "cell_type": "code",
   "execution_count": null,
   "metadata": {},
   "outputs": [],
   "source": [
    "# Stream Donald Trump tweets\n",
    "dt_tweets = api.user_timeline(screen_name= \"realDonaldTrump\", count= 1000, include_rts= False, tweet_mode= 'extended')\n",
    "print(\"Number of tweets extracted: {}.\\n\".format(len(dt_tweets)))\n",
    "\n",
    "# Stream Barak Obama tweets\n",
    "bo_tweets = api.user_timeline(screen_name= \"BarackObama\", count= 1000, include_rts= False, tweet_mode= 'extended')\n",
    "print(\"Number of tweets extracted: {}.\\n\".format(len(bo_tweets)))"
   ]
  },
  {
   "cell_type": "markdown",
   "metadata": {},
   "source": [
    "# Convert Raw Data To Readable DataFrame"
   ]
  },
  {
   "cell_type": "code",
   "execution_count": 7,
   "metadata": {},
   "outputs": [],
   "source": [
    "# Extracting id, created_at, full_text, favorite_count, retweet_count details from Donald Trump and Obama's Tweets\n",
    "\n",
    "# Initiate lists to hole the extracted information\n",
    "tw_id_list = []\n",
    "tw_user_list = []\n",
    "tw_created_date_list = []\n",
    "tw_tweet_txt_list = []\n",
    "tw_fav_count_list = []\n",
    "tw_retweet_count_list = []\n",
    "\n",
    "# Function to extract the information\n",
    "def fillin_tweets(tweets_obj, user):\n",
    "    try:\n",
    "        for tw in tweets_obj:\n",
    "            tw_id_list.append(tw.id)\n",
    "            tw_user_list.append(user)\n",
    "            tw_created_date_list.append(tw.created_at)\n",
    "            tw_tweet_txt_list.append(tw.full_text)\n",
    "            tw_fav_count_list.append(tw.favorite_count)\n",
    "            tw_retweet_count_list.append(tw.retweet_count)\n",
    "    except:\n",
    "        tw_id_list.append(np.nan)\n",
    "        tw_user_list.append(user)\n",
    "        tw_created_date_list.append(np.nan)\n",
    "        tw_tweet_txt_list.append(np.nan)\n",
    "        tw_fav_count_list.append(np.nan)\n",
    "        tw_retweet_count_list.append(np.nan)\n",
    "\n",
    "# Extract the information\n",
    "fillin_tweets(tweets_obj= dt_tweets, user= 'Donald Trump')\n",
    "fillin_tweets(tweets_obj= bo_tweets, user= 'Barak Obama')\n",
    "\n",
    "# Create dictionary of the extracted information\n",
    "dict_dataframe = {  'id': tw_id_list,\n",
    "                    'user': tw_user_list, \n",
    "                    'date': tw_created_date_list,\n",
    "                    'text': tw_tweet_txt_list,\n",
    "                    'favorite_counts': tw_fav_count_list,\n",
    "                    'retweet_counts': tw_retweet_count_list  }\n",
    "\n",
    "# Create dataframe from the created dictionary\n",
    "df_obama_trump = pd.DataFrame(dict_dataframe)\n",
    "\n",
    "# Save dataframe into CSV file\n",
    "df_obama_trump.to_csv('Trump_Obama_Tweets2.csv')"
   ]
  }
 ],
 "metadata": {
  "kernelspec": {
   "display_name": "Python 3",
   "language": "python",
   "name": "python3"
  },
  "language_info": {
   "codemirror_mode": {
    "name": "ipython",
    "version": 3
   },
   "file_extension": ".py",
   "mimetype": "text/x-python",
   "name": "python",
   "nbconvert_exporter": "python",
   "pygments_lexer": "ipython3",
   "version": "3.7.4"
  }
 },
 "nbformat": 4,
 "nbformat_minor": 4
}
