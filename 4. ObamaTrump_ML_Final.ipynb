{
 "cells": [
  {
   "cell_type": "markdown",
   "metadata": {},
   "source": [
    "# Obama & Trump Tweets - Part 4\n",
    "\n",
    "- In this notebook, I will prepare DataFrame for Machine Learning\n",
    "- I will use **tweets** as the only feature in this notebook (\n",
    "- I will use **TfidfVectorizer** for text vectorizing with **ngram(1,2)**\n",
    "- I will use multiple classifiers, evaluate them, select model and tune its parameters\n",
    "- I will use final model, train it on all dataset and predict new tweets"
   ]
  },
  {
   "cell_type": "markdown",
   "metadata": {},
   "source": [
    "# Import Libraries"
   ]
  },
  {
   "cell_type": "code",
   "execution_count": 13,
   "metadata": {},
   "outputs": [],
   "source": [
    "import pandas as pd\n",
    "import numpy as np\n",
    "\n",
    "import matplotlib.pyplot as plt\n",
    "import seaborn as sns\n",
    "\n",
    "from sklearn.utils import shuffle\n",
    "from sklearn.feature_extraction.text import TfidfVectorizer\n",
    "from sklearn.linear_model import LogisticRegression\n",
    "from sklearn.svm import SVC, LinearSVC\n",
    "from sklearn.naive_bayes import MultinomialNB\n",
    "from sklearn.metrics import accuracy_score, classification_report, confusion_matrix, recall_score, precision_score, f1_score, roc_auc_score, roc_curve\n",
    "from sklearn.model_selection import train_test_split, GridSearchCV\n",
    "\n",
    "import xgboost as xgb\n",
    "import lightgbm as lgb"
   ]
  },
  {
   "cell_type": "markdown",
   "metadata": {},
   "source": [
    "# Set Default Settings"
   ]
  },
  {
   "cell_type": "code",
   "execution_count": 2,
   "metadata": {},
   "outputs": [],
   "source": [
    "pd.set_option('display.max_columns', None)\n",
    "sns.set_style('darkgrid')"
   ]
  },
  {
   "cell_type": "markdown",
   "metadata": {},
   "source": [
    "# Import Pickled File"
   ]
  },
  {
   "cell_type": "code",
   "execution_count": 3,
   "metadata": {},
   "outputs": [],
   "source": [
    "# Import pickled file\n",
    "df = pd.read_pickle('Jan19_Trump_Obama_Tweets_ML_Ready_Final.pickle')"
   ]
  },
  {
   "cell_type": "code",
   "execution_count": 4,
   "metadata": {},
   "outputs": [
    {
     "data": {
      "text/html": [
       "<div>\n",
       "<style scoped>\n",
       "    .dataframe tbody tr th:only-of-type {\n",
       "        vertical-align: middle;\n",
       "    }\n",
       "\n",
       "    .dataframe tbody tr th {\n",
       "        vertical-align: top;\n",
       "    }\n",
       "\n",
       "    .dataframe thead th {\n",
       "        text-align: right;\n",
       "    }\n",
       "</style>\n",
       "<table border=\"1\" class=\"dataframe\">\n",
       "  <thead>\n",
       "    <tr style=\"text-align: right;\">\n",
       "      <th></th>\n",
       "      <th>date</th>\n",
       "      <th>favorite_counts</th>\n",
       "      <th>retweet_counts</th>\n",
       "      <th>hashtags</th>\n",
       "      <th>mentions</th>\n",
       "      <th>tweets_length</th>\n",
       "      <th>tweets_spaces</th>\n",
       "      <th>tweets_uppercase</th>\n",
       "      <th>tweets_punctuations</th>\n",
       "      <th>tweets_questionmark</th>\n",
       "      <th>tweets_exclamation_mark</th>\n",
       "      <th>polarity</th>\n",
       "      <th>subjectivity</th>\n",
       "      <th>polarity_status</th>\n",
       "      <th>subjectivity_status</th>\n",
       "      <th>is_neutral</th>\n",
       "      <th>is_positive</th>\n",
       "      <th>is_negative</th>\n",
       "      <th>part_of_day</th>\n",
       "      <th>is_early</th>\n",
       "      <th>is_morning</th>\n",
       "      <th>is_noon</th>\n",
       "      <th>is_evening</th>\n",
       "      <th>is_midnight</th>\n",
       "      <th>is_norp</th>\n",
       "      <th>is_time</th>\n",
       "      <th>is_org</th>\n",
       "      <th>is_gpe</th>\n",
       "      <th>is_loc</th>\n",
       "      <th>is_product</th>\n",
       "      <th>is_workart</th>\n",
       "      <th>is_fac</th>\n",
       "      <th>is_noun</th>\n",
       "      <th>is_pron</th>\n",
       "      <th>is_adv</th>\n",
       "      <th>is_propn</th>\n",
       "      <th>is_verb</th>\n",
       "      <th>is_intj</th>\n",
       "      <th>month</th>\n",
       "      <th>day</th>\n",
       "      <th>week_day</th>\n",
       "      <th>week_day_name</th>\n",
       "      <th>hour</th>\n",
       "      <th>clean_tweets</th>\n",
       "      <th>profile</th>\n",
       "    </tr>\n",
       "  </thead>\n",
       "  <tbody>\n",
       "    <tr>\n",
       "      <td>0</td>\n",
       "      <td>2018-12-22 02:49:05</td>\n",
       "      <td>61773</td>\n",
       "      <td>17110</td>\n",
       "      <td>NaN</td>\n",
       "      <td>NaN</td>\n",
       "      <td>45</td>\n",
       "      <td>7</td>\n",
       "      <td>37</td>\n",
       "      <td>1</td>\n",
       "      <td>0</td>\n",
       "      <td>1</td>\n",
       "      <td>1.00</td>\n",
       "      <td>0.75</td>\n",
       "      <td>Very Positive</td>\n",
       "      <td>Very Subjective</td>\n",
       "      <td>0</td>\n",
       "      <td>1</td>\n",
       "      <td>0</td>\n",
       "      <td>Mid Night</td>\n",
       "      <td>0</td>\n",
       "      <td>0</td>\n",
       "      <td>0</td>\n",
       "      <td>0</td>\n",
       "      <td>1</td>\n",
       "      <td>0</td>\n",
       "      <td>0</td>\n",
       "      <td>0</td>\n",
       "      <td>0</td>\n",
       "      <td>0</td>\n",
       "      <td>0</td>\n",
       "      <td>0</td>\n",
       "      <td>0</td>\n",
       "      <td>2</td>\n",
       "      <td>0</td>\n",
       "      <td>0</td>\n",
       "      <td>3</td>\n",
       "      <td>2</td>\n",
       "      <td>0</td>\n",
       "      <td>12</td>\n",
       "      <td>22</td>\n",
       "      <td>5</td>\n",
       "      <td>Saturday</td>\n",
       "      <td>2</td>\n",
       "      <td>great country border security</td>\n",
       "      <td>0</td>\n",
       "    </tr>\n",
       "    <tr>\n",
       "      <td>1</td>\n",
       "      <td>2018-12-22 00:16:55</td>\n",
       "      <td>66758</td>\n",
       "      <td>10652</td>\n",
       "      <td>NaN</td>\n",
       "      <td>NaN</td>\n",
       "      <td>77</td>\n",
       "      <td>11</td>\n",
       "      <td>7</td>\n",
       "      <td>1</td>\n",
       "      <td>0</td>\n",
       "      <td>1</td>\n",
       "      <td>0.44</td>\n",
       "      <td>0.55</td>\n",
       "      <td>Positive</td>\n",
       "      <td>Subjective</td>\n",
       "      <td>0</td>\n",
       "      <td>1</td>\n",
       "      <td>0</td>\n",
       "      <td>Mid Night</td>\n",
       "      <td>0</td>\n",
       "      <td>0</td>\n",
       "      <td>0</td>\n",
       "      <td>0</td>\n",
       "      <td>1</td>\n",
       "      <td>0</td>\n",
       "      <td>0</td>\n",
       "      <td>1</td>\n",
       "      <td>0</td>\n",
       "      <td>0</td>\n",
       "      <td>0</td>\n",
       "      <td>0</td>\n",
       "      <td>0</td>\n",
       "      <td>1</td>\n",
       "      <td>0</td>\n",
       "      <td>0</td>\n",
       "      <td>6</td>\n",
       "      <td>1</td>\n",
       "      <td>0</td>\n",
       "      <td>12</td>\n",
       "      <td>22</td>\n",
       "      <td>5</td>\n",
       "      <td>Saturday</td>\n",
       "      <td>0</td>\n",
       "      <td>wish supreme court justice ruth bad ginsburg s...</td>\n",
       "      <td>0</td>\n",
       "    </tr>\n",
       "  </tbody>\n",
       "</table>\n",
       "</div>"
      ],
      "text/plain": [
       "                 date  favorite_counts  retweet_counts hashtags mentions  \\\n",
       "0 2018-12-22 02:49:05            61773           17110      NaN      NaN   \n",
       "1 2018-12-22 00:16:55            66758           10652      NaN      NaN   \n",
       "\n",
       "   tweets_length  tweets_spaces  tweets_uppercase  tweets_punctuations  \\\n",
       "0             45              7                37                    1   \n",
       "1             77             11                 7                    1   \n",
       "\n",
       "   tweets_questionmark  tweets_exclamation_mark  polarity  subjectivity  \\\n",
       "0                    0                        1      1.00          0.75   \n",
       "1                    0                        1      0.44          0.55   \n",
       "\n",
       "  polarity_status subjectivity_status  is_neutral  is_positive  is_negative  \\\n",
       "0   Very Positive     Very Subjective           0            1            0   \n",
       "1        Positive          Subjective           0            1            0   \n",
       "\n",
       "  part_of_day  is_early  is_morning  is_noon  is_evening  is_midnight  \\\n",
       "0   Mid Night         0           0        0           0            1   \n",
       "1   Mid Night         0           0        0           0            1   \n",
       "\n",
       "   is_norp  is_time  is_org  is_gpe  is_loc  is_product  is_workart  is_fac  \\\n",
       "0        0        0       0       0       0           0           0       0   \n",
       "1        0        0       1       0       0           0           0       0   \n",
       "\n",
       "   is_noun  is_pron  is_adv  is_propn  is_verb  is_intj  month  day  week_day  \\\n",
       "0        2        0       0         3        2        0     12   22         5   \n",
       "1        1        0       0         6        1        0     12   22         5   \n",
       "\n",
       "  week_day_name  hour                                       clean_tweets  \\\n",
       "0      Saturday     2                      great country border security   \n",
       "1      Saturday     0  wish supreme court justice ruth bad ginsburg s...   \n",
       "\n",
       "   profile  \n",
       "0        0  \n",
       "1        0  "
      ]
     },
     "execution_count": 4,
     "metadata": {},
     "output_type": "execute_result"
    }
   ],
   "source": [
    "df.head(2)"
   ]
  },
  {
   "cell_type": "markdown",
   "metadata": {},
   "source": [
    "# Prepare Dataset for ML\n",
    "1. Seperate features from labels\n",
    "2. Seperate training and testing datasets\n",
    "3. Vectorize tweets "
   ]
  },
  {
   "cell_type": "code",
   "execution_count": 7,
   "metadata": {},
   "outputs": [],
   "source": [
    "def process_data(data, feature, target):\n",
    "    \n",
    "    shuf_df = shuffle(data)                             # Shuffle DataFrame\n",
    "    shuf_df.reset_index(drop = True, inplace = True)    # Reset DataFrame index\n",
    "    \n",
    "    X = data[feature]\n",
    "    y = data[target]\n",
    "    \n",
    "    return X, y\n",
    "\n",
    "X, y = process_data( data    = df, \n",
    "                     feature = ['clean_tweets'], \n",
    "                     target  = ['profile'] )"
   ]
  },
  {
   "cell_type": "code",
   "execution_count": 8,
   "metadata": {},
   "outputs": [],
   "source": [
    "# Split train, test dataframe\n",
    "X_train, X_test, y_train, y_test = train_test_split(X, y, test_size = .20, random_state = 42)"
   ]
  },
  {
   "cell_type": "code",
   "execution_count": 9,
   "metadata": {},
   "outputs": [
    {
     "name": "stdout",
     "output_type": "stream",
     "text": [
      "(508, 1) (127, 1) (508, 1) (127, 1)\n",
      "(508, 1) (127, 1) (508,) (127,)\n"
     ]
    }
   ],
   "source": [
    "# Check shapes\n",
    "print(X_train.shape, X_test.shape, y_train.shape, y_test.shape)\n",
    "print(X_train.values.shape, X_test.values.shape, y_train.values.ravel().shape, y_test.values.ravel().shape)"
   ]
  },
  {
   "cell_type": "code",
   "execution_count": 10,
   "metadata": {},
   "outputs": [],
   "source": [
    "# Initiate TFIDF Vect\n",
    "tfidf_vect = TfidfVectorizer(ngram_range = (1,3), stop_words = 'english', sublinear_tf = True)\n",
    "\n",
    "# Fit & transform the X_train\n",
    "tfidfVect_train    = tfidf_vect.fit_transform(X_train.clean_tweets)\n",
    "tfidfVect_train_df = pd.DataFrame(tfidfVect_train.toarray(), columns = tfidf_vect.get_feature_names())\n",
    "# Transform the X_test\n",
    "tfidfVect_test     = tfidf_vect.transform(X_test.clean_tweets)\n",
    "tfidfVect_test_df  = pd.DataFrame(tfidfVect_test.toarray(), columns = tfidf_vect.get_feature_names())"
   ]
  },
  {
   "cell_type": "markdown",
   "metadata": {},
   "source": [
    "# Evaluate Models\n",
    "1. Evaluate models\n",
    "2. Display results\n",
    "3. Select best model based on **Accuracy**, **Precision** and **F1 Score**\n",
    "4. Tune model's parameter using GridSearchCV\n",
    "5. Train model on all dataset\n",
    "6. Predict new tweets samples"
   ]
  },
  {
   "cell_type": "code",
   "execution_count": 34,
   "metadata": {},
   "outputs": [],
   "source": [
    "# Initiate lists \n",
    "model_name_list = []\n",
    "accuracyScore_list = []\n",
    "recallScore_list = []\n",
    "precisionScore_list = []\n",
    "rocAucScore_list = []\n",
    "f1Score_list = []\n",
    "\n",
    "def evaluate_classifier(model, Xtrain, Xtest, ytrain, ytest):\n",
    "    # Initiate the Naive Bayes 'MultinomialNB' classifier\n",
    "    clf = model[1]\n",
    "\n",
    "    # Fit classifier with the X_train_tfidf, y_train\n",
    "    clf.fit(Xtrain, ytrain)\n",
    "\n",
    "    # Store predicted values ub y_pred\n",
    "    y_pred = clf.predict(Xtest)\n",
    "    \n",
    "    accuracyScore  = accuracy_score(ytest, y_pred)\n",
    "    recallScore    = recall_score(ytest, y_pred)\n",
    "    precisionScore = precision_score(ytest, y_pred)\n",
    "    rocAucScore    = roc_auc_score(ytest, y_pred)\n",
    "    f1Score        = f1_score(ytest, y_pred)\n",
    "\n",
    "    model_name_list.append(model[0])\n",
    "    accuracyScore_list.append(accuracyScore)\n",
    "    recallScore_list.append(recallScore)\n",
    "    precisionScore_list.append(precisionScore)\n",
    "    rocAucScore_list.append(rocAucScore)\n",
    "    f1Score_list.append(f1Score)\n",
    "    \n",
    "    print('Accuracy Score: {}\\n\\n'.format(round(accuracyScore * 100),1))\n",
    "\n",
    "    print('Confusion Matrix:')\n",
    "    sns.heatmap(confusion_matrix(ytest, y_pred), annot = True, xticklabels = [\"Trump\",\"Obama\"], yticklabels = [\"Obama\", \"Trump\"])\n",
    "    plt.show()\n",
    "\n",
    "    print('\\n\\nClassification Report: \\n{}\\n'.format(classification_report(ytest, y_pred)))"
   ]
  },
  {
   "cell_type": "code",
   "execution_count": 35,
   "metadata": {
    "collapsed": true,
    "jupyter": {
     "outputs_hidden": true
    }
   },
   "outputs": [
    {
     "name": "stdout",
     "output_type": "stream",
     "text": [
      "Accuracy Score: 95.0\n",
      "\n",
      "\n",
      "Confusion Matrix:\n"
     ]
    },
    {
     "data": {
      "image/png": "[encoded data removed]",
      "text/plain": [
       "<Figure size 432x288 with 2 Axes>"
      ]
     },
     "metadata": {},
     "output_type": "display_data"
    },
    {
     "name": "stdout",
     "output_type": "stream",
     "text": [
      "\n",
      "\n",
      "Classification Report: \n",
      "              precision    recall  f1-score   support\n",
      "\n",
      "           0       0.96      0.93      0.94        55\n",
      "           1       0.95      0.97      0.96        72\n",
      "\n",
      "    accuracy                           0.95       127\n",
      "   macro avg       0.95      0.95      0.95       127\n",
      "weighted avg       0.95      0.95      0.95       127\n",
      "\n",
      "\n"
     ]
    }
   ],
   "source": [
    "# Evaluate Naive Bayes 'MultinomialNB' classifier\n",
    "evaluate_classifier( model  = ['MultinomialNB', MultinomialNB(alpha= 0.01)], \n",
    "                     Xtrain = tfidfVect_train_df.values, \n",
    "                     Xtest  = tfidfVect_test_df.values, \n",
    "                     ytrain = y_train.values.ravel(), \n",
    "                     ytest  = y_test.values.ravel())"
   ]
  },
  {
   "cell_type": "code",
   "execution_count": 36,
   "metadata": {
    "collapsed": true,
    "jupyter": {
     "outputs_hidden": true
    }
   },
   "outputs": [
    {
     "name": "stdout",
     "output_type": "stream",
     "text": [
      "Accuracy Score: 85.0\n",
      "\n",
      "\n",
      "Confusion Matrix:\n"
     ]
    },
    {
     "data": {
      "image/png": "[encoded data removed]",
      "text/plain": [
       "<Figure size 432x288 with 2 Axes>"
      ]
     },
     "metadata": {},
     "output_type": "display_data"
    },
    {
     "name": "stdout",
     "output_type": "stream",
     "text": [
      "\n",
      "\n",
      "Classification Report: \n",
      "              precision    recall  f1-score   support\n",
      "\n",
      "           0       0.80      0.87      0.83        55\n",
      "           1       0.90      0.83      0.86        72\n",
      "\n",
      "    accuracy                           0.85       127\n",
      "   macro avg       0.85      0.85      0.85       127\n",
      "weighted avg       0.85      0.85      0.85       127\n",
      "\n",
      "\n"
     ]
    }
   ],
   "source": [
    "# Evaluate XGBoost classifier\n",
    "evaluate_classifier( model  = ['XGBoost', xgb.XGBClassifier(learning_rate = 0.5)], \n",
    "                     Xtrain = tfidfVect_train_df.values, \n",
    "                     Xtest  = tfidfVect_test_df.values, \n",
    "                     ytrain = y_train.values.ravel(), \n",
    "                     ytest  = y_test.values.ravel())"
   ]
  },
  {
   "cell_type": "code",
   "execution_count": 37,
   "metadata": {
    "collapsed": true,
    "jupyter": {
     "outputs_hidden": true
    }
   },
   "outputs": [
    {
     "name": "stdout",
     "output_type": "stream",
     "text": [
      "Accuracy Score: 78.0\n",
      "\n",
      "\n",
      "Confusion Matrix:\n"
     ]
    },
    {
     "data": {
      "image/png": "[encoded data removed]",
      "text/plain": [
       "<Figure size 432x288 with 2 Axes>"
      ]
     },
     "metadata": {},
     "output_type": "display_data"
    },
    {
     "name": "stdout",
     "output_type": "stream",
     "text": [
      "\n",
      "\n",
      "Classification Report: \n",
      "              precision    recall  f1-score   support\n",
      "\n",
      "           0       0.72      0.80      0.76        55\n",
      "           1       0.83      0.76      0.80        72\n",
      "\n",
      "    accuracy                           0.78       127\n",
      "   macro avg       0.78      0.78      0.78       127\n",
      "weighted avg       0.78      0.78      0.78       127\n",
      "\n",
      "\n"
     ]
    }
   ],
   "source": [
    "# Evaluate LightGBM classifier\n",
    "evaluate_classifier( model  = ['LightGBM', lgb.LGBMClassifier(learning_rate = 0.5)], \n",
    "                     Xtrain = tfidfVect_train_df.values, \n",
    "                     Xtest  = tfidfVect_test_df.values, \n",
    "                     ytrain = y_train.values.ravel(), \n",
    "                     ytest  = y_test.values.ravel())"
   ]
  },
  {
   "cell_type": "code",
   "execution_count": 14,
   "metadata": {
    "collapsed": true,
    "jupyter": {
     "outputs_hidden": true
    }
   },
   "outputs": [
    {
     "name": "stdout",
     "output_type": "stream",
     "text": [
      "Accuracy Score: 91.0\n",
      "\n",
      "\n",
      "Confusion Matrix:\n"
     ]
    },
    {
     "name": "stderr",
     "output_type": "stream",
     "text": [
      "/Users/haithamalabadla/opt/anaconda3/lib/python3.7/site-packages/sklearn/linear_model/logistic.py:432: FutureWarning: Default solver will be changed to 'lbfgs' in 0.22. Specify a solver to silence this warning.\n",
      "  FutureWarning)\n"
     ]
    },
    {
     "data": {
      "image/png": "[encoded data removed]",
      "text/plain": [
       "<Figure size 432x288 with 2 Axes>"
      ]
     },
     "metadata": {},
     "output_type": "display_data"
    },
    {
     "name": "stdout",
     "output_type": "stream",
     "text": [
      "\n",
      "\n",
      "Classification Report: \n",
      "              precision    recall  f1-score   support\n",
      "\n",
      "           0       1.00      0.78      0.88        55\n",
      "           1       0.86      1.00      0.92        72\n",
      "\n",
      "    accuracy                           0.91       127\n",
      "   macro avg       0.93      0.89      0.90       127\n",
      "weighted avg       0.92      0.91      0.90       127\n",
      "\n",
      "\n"
     ]
    }
   ],
   "source": [
    "# Evaluate LogisticRegression classifier\n",
    "evaluate_classifier( model  = ['LogisticRegression', LogisticRegression()], \n",
    "                     Xtrain = tfidfVect_train_df.values, \n",
    "                     Xtest  = tfidfVect_test_df.values, \n",
    "                     ytrain = y_train.values.ravel(), \n",
    "                     ytest  = y_test.values.ravel())"
   ]
  },
  {
   "cell_type": "code",
   "execution_count": 15,
   "metadata": {
    "collapsed": true,
    "jupyter": {
     "outputs_hidden": true
    }
   },
   "outputs": [
    {
     "name": "stdout",
     "output_type": "stream",
     "text": [
      "Accuracy Score: 98.0\n",
      "\n",
      "\n",
      "Confusion Matrix:\n"
     ]
    },
    {
     "data": {
      "image/png": "[encoded data removed]",
      "text/plain": [
       "<Figure size 432x288 with 2 Axes>"
      ]
     },
     "metadata": {},
     "output_type": "display_data"
    },
    {
     "name": "stdout",
     "output_type": "stream",
     "text": [
      "\n",
      "\n",
      "Classification Report: \n",
      "              precision    recall  f1-score   support\n",
      "\n",
      "           0       0.98      0.96      0.97        55\n",
      "           1       0.97      0.99      0.98        72\n",
      "\n",
      "    accuracy                           0.98       127\n",
      "   macro avg       0.98      0.97      0.98       127\n",
      "weighted avg       0.98      0.98      0.98       127\n",
      "\n",
      "\n"
     ]
    }
   ],
   "source": [
    "# Evaluate SVC classifier\n",
    "evaluate_classifier( model  = ['SVC', SVC(kernel = 'linear')], \n",
    "                     Xtrain = tfidfVect_train_df.values, \n",
    "                     Xtest  = tfidfVect_test_df.values, \n",
    "                     ytrain = y_train.values.ravel(), \n",
    "                     ytest  = y_test.values.ravel())"
   ]
  },
  {
   "cell_type": "code",
   "execution_count": 16,
   "metadata": {
    "collapsed": true,
    "jupyter": {
     "outputs_hidden": true
    }
   },
   "outputs": [
    {
     "name": "stdout",
     "output_type": "stream",
     "text": [
      "Accuracy Score: 91.0\n",
      "\n",
      "\n",
      "Confusion Matrix:\n"
     ]
    },
    {
     "data": {
      "image/png": "[encoded data removed]",
      "text/plain": [
       "<Figure size 432x288 with 2 Axes>"
      ]
     },
     "metadata": {},
     "output_type": "display_data"
    },
    {
     "name": "stdout",
     "output_type": "stream",
     "text": [
      "\n",
      "\n",
      "Classification Report: \n",
      "              precision    recall  f1-score   support\n",
      "\n",
      "           0       0.92      0.85      0.89        55\n",
      "           1       0.89      0.94      0.92        72\n",
      "\n",
      "    accuracy                           0.91       127\n",
      "   macro avg       0.91      0.90      0.90       127\n",
      "weighted avg       0.91      0.91      0.91       127\n",
      "\n",
      "\n"
     ]
    }
   ],
   "source": [
    "# Evaluate LinearSVC classifier\n",
    "evaluate_classifier( model  = ['LinearSVC', LinearSVC(penalty = 'l1', dual = False)], \n",
    "                     Xtrain = tfidfVect_train_df.values, \n",
    "                     Xtest  = tfidfVect_test_df.values, \n",
    "                     ytrain = y_train.values.ravel(), \n",
    "                     ytest  = y_test.values.ravel())"
   ]
  },
  {
   "cell_type": "code",
   "execution_count": 17,
   "metadata": {},
   "outputs": [],
   "source": [
    "# Assemble scores from lists to dataframe\n",
    "def assemble_scores():\n",
    "\n",
    "    results_dict = { 'Model': model_name_list,\n",
    "                     'Accuracy_Score': accuracyScore_list,\n",
    "                     'Recall_Score': recallScore_list,\n",
    "                     'Precision_Score': precisionScore_list,\n",
    "                     'ROC_AUC_Score': rocAucScore_list,\n",
    "                     'F1_Score': f1Score_list }\n",
    "\n",
    "    results_df = pd.DataFrame(results_dict)\n",
    "    \n",
    "    return results_df\n",
    "\n",
    "# Call assemble_scoes function to assemble scores into dataframe\n",
    "results_df = assemble_scores()"
   ]
  },
  {
   "cell_type": "code",
   "execution_count": 18,
   "metadata": {},
   "outputs": [
    {
     "data": {
      "text/html": [
       "<div>\n",
       "<style scoped>\n",
       "    .dataframe tbody tr th:only-of-type {\n",
       "        vertical-align: middle;\n",
       "    }\n",
       "\n",
       "    .dataframe tbody tr th {\n",
       "        vertical-align: top;\n",
       "    }\n",
       "\n",
       "    .dataframe thead th {\n",
       "        text-align: right;\n",
       "    }\n",
       "</style>\n",
       "<table border=\"1\" class=\"dataframe\">\n",
       "  <thead>\n",
       "    <tr style=\"text-align: right;\">\n",
       "      <th></th>\n",
       "      <th>Model</th>\n",
       "      <th>Accuracy_Score</th>\n",
       "      <th>Recall_Score</th>\n",
       "      <th>Precision_Score</th>\n",
       "      <th>ROC_AUC_Score</th>\n",
       "      <th>F1_Score</th>\n",
       "    </tr>\n",
       "  </thead>\n",
       "  <tbody>\n",
       "    <tr>\n",
       "      <td>0</td>\n",
       "      <td>MultinomialNB</td>\n",
       "      <td>0.952756</td>\n",
       "      <td>0.972222</td>\n",
       "      <td>0.945946</td>\n",
       "      <td>0.949747</td>\n",
       "      <td>0.958904</td>\n",
       "    </tr>\n",
       "    <tr>\n",
       "      <td>1</td>\n",
       "      <td>XGBoost</td>\n",
       "      <td>0.850394</td>\n",
       "      <td>0.833333</td>\n",
       "      <td>0.895522</td>\n",
       "      <td>0.853030</td>\n",
       "      <td>0.863309</td>\n",
       "    </tr>\n",
       "    <tr>\n",
       "      <td>2</td>\n",
       "      <td>LightGBM</td>\n",
       "      <td>0.779528</td>\n",
       "      <td>0.763889</td>\n",
       "      <td>0.833333</td>\n",
       "      <td>0.781944</td>\n",
       "      <td>0.797101</td>\n",
       "    </tr>\n",
       "    <tr>\n",
       "      <td>3</td>\n",
       "      <td>LogisticRegression</td>\n",
       "      <td>0.905512</td>\n",
       "      <td>1.000000</td>\n",
       "      <td>0.857143</td>\n",
       "      <td>0.890909</td>\n",
       "      <td>0.923077</td>\n",
       "    </tr>\n",
       "    <tr>\n",
       "      <td>4</td>\n",
       "      <td>SVC</td>\n",
       "      <td>0.976378</td>\n",
       "      <td>0.986111</td>\n",
       "      <td>0.972603</td>\n",
       "      <td>0.974874</td>\n",
       "      <td>0.979310</td>\n",
       "    </tr>\n",
       "    <tr>\n",
       "      <td>5</td>\n",
       "      <td>LinearSVC</td>\n",
       "      <td>0.905512</td>\n",
       "      <td>0.944444</td>\n",
       "      <td>0.894737</td>\n",
       "      <td>0.899495</td>\n",
       "      <td>0.918919</td>\n",
       "    </tr>\n",
       "  </tbody>\n",
       "</table>\n",
       "</div>"
      ],
      "text/plain": [
       "                Model  Accuracy_Score  Recall_Score  Precision_Score  \\\n",
       "0       MultinomialNB        0.952756      0.972222         0.945946   \n",
       "1             XGBoost        0.850394      0.833333         0.895522   \n",
       "2            LightGBM        0.779528      0.763889         0.833333   \n",
       "3  LogisticRegression        0.905512      1.000000         0.857143   \n",
       "4                 SVC        0.976378      0.986111         0.972603   \n",
       "5           LinearSVC        0.905512      0.944444         0.894737   \n",
       "\n",
       "   ROC_AUC_Score  F1_Score  \n",
       "0       0.949747  0.958904  \n",
       "1       0.853030  0.863309  \n",
       "2       0.781944  0.797101  \n",
       "3       0.890909  0.923077  \n",
       "4       0.974874  0.979310  \n",
       "5       0.899495  0.918919  "
      ]
     },
     "execution_count": 18,
     "metadata": {},
     "output_type": "execute_result"
    }
   ],
   "source": [
    "results_df"
   ]
  },
  {
   "cell_type": "code",
   "execution_count": 19,
   "metadata": {},
   "outputs": [
    {
     "data": {
      "image/png": "[encoded data removed]",
      "text/plain": [
       "<Figure size 1440x576 with 1 Axes>"
      ]
     },
     "metadata": {},
     "output_type": "display_data"
    }
   ],
   "source": [
    "# Change the shape of the dataframe using pd.melt\n",
    "results_melted_df = pd.melt(frame = results_df, id_vars = ['Model'], value_vars = ['Accuracy_Score', 'Recall_Score', 'Precision_Score', 'ROC_AUC_Score', 'F1_Score'], var_name = 'Score_Type', value_name = 'Score')\n",
    "\n",
    "# Plot scores againt models\n",
    "plt.figure(figsize= (20,8))\n",
    "\n",
    "_ = sns.barplot( data = results_melted_df, x = 'Score', y = 'Model', hue = 'Score_Type', palette= \"Paired\")\n",
    "\n",
    "_.set_title('Models Metrics / Scores', pad = 10, weight= 'bold')\n",
    "_.set_xlabel('Performance Score', weight= 'bold')\n",
    "_.set_ylabel('Model', weight= 'bold')\n",
    "\n",
    "plt.show()"
   ]
  },
  {
   "cell_type": "code",
   "execution_count": 12,
   "metadata": {},
   "outputs": [],
   "source": [
    "# Initiate TFIDF Vect\n",
    "tfidf_vectorize = TfidfVectorizer(ngram_range = (1,3), stop_words = 'english', sublinear_tf = True)\n",
    "\n",
    "# Fit & transform the \n",
    "tfidfVect_X    = tfidf_vectorize.fit_transform(X.clean_tweets)\n",
    "tfidfVect_X_df = pd.DataFrame(tfidfVect_X.toarray(), columns = tfidf_vectorize.get_feature_names())"
   ]
  },
  {
   "cell_type": "markdown",
   "metadata": {},
   "source": [
    "# MultinomialNB Tunning"
   ]
  },
  {
   "cell_type": "code",
   "execution_count": 13,
   "metadata": {},
   "outputs": [
    {
     "name": "stderr",
     "output_type": "stream",
     "text": [
      "/Users/haithamalabadla/opt/anaconda3/lib/python3.7/site-packages/joblib/externals/loky/process_executor.py:706: UserWarning: A worker stopped while some jobs were given to the executor. This can be caused by a too short worker timeout or by a memory leak.\n",
      "  \"timeout or by a memory leak.\", UserWarning\n"
     ]
    }
   ],
   "source": [
    "# GridSearchCV\n",
    "cls_nb = MultinomialNB()\n",
    "\n",
    "para_grid = { 'alpha': [0.001, 0.01, 0.1, 0.5, 1],\n",
    "              'fit_prior' : [False, True] }\n",
    "\n",
    "cls_nb_gscv = GridSearchCV( iid = False, estimator = cls_nb, param_grid = para_grid, cv = 10, return_train_score = True, n_jobs = -1 )\n",
    "cls_nb_gscv_fit = cls_nb_gscv.fit(tfidfVect_X_df.values, y.values.ravel())\n",
    "\n",
    "cls_nb_results_df = pd.DataFrame(cls_nb_gscv_fit.cv_results_)"
   ]
  },
  {
   "cell_type": "code",
   "execution_count": 14,
   "metadata": {},
   "outputs": [
    {
     "data": {
      "text/html": [
       "<div>\n",
       "<style scoped>\n",
       "    .dataframe tbody tr th:only-of-type {\n",
       "        vertical-align: middle;\n",
       "    }\n",
       "\n",
       "    .dataframe tbody tr th {\n",
       "        vertical-align: top;\n",
       "    }\n",
       "\n",
       "    .dataframe thead th {\n",
       "        text-align: right;\n",
       "    }\n",
       "</style>\n",
       "<table border=\"1\" class=\"dataframe\">\n",
       "  <thead>\n",
       "    <tr style=\"text-align: right;\">\n",
       "      <th></th>\n",
       "      <th>mean_fit_time</th>\n",
       "      <th>std_fit_time</th>\n",
       "      <th>mean_score_time</th>\n",
       "      <th>std_score_time</th>\n",
       "      <th>param_alpha</th>\n",
       "      <th>param_fit_prior</th>\n",
       "      <th>params</th>\n",
       "      <th>split0_test_score</th>\n",
       "      <th>split1_test_score</th>\n",
       "      <th>split2_test_score</th>\n",
       "      <th>split3_test_score</th>\n",
       "      <th>split4_test_score</th>\n",
       "      <th>split5_test_score</th>\n",
       "      <th>split6_test_score</th>\n",
       "      <th>split7_test_score</th>\n",
       "      <th>split8_test_score</th>\n",
       "      <th>split9_test_score</th>\n",
       "      <th>mean_test_score</th>\n",
       "      <th>std_test_score</th>\n",
       "      <th>rank_test_score</th>\n",
       "      <th>split0_train_score</th>\n",
       "      <th>split1_train_score</th>\n",
       "      <th>split2_train_score</th>\n",
       "      <th>split3_train_score</th>\n",
       "      <th>split4_train_score</th>\n",
       "      <th>split5_train_score</th>\n",
       "      <th>split6_train_score</th>\n",
       "      <th>split7_train_score</th>\n",
       "      <th>split8_train_score</th>\n",
       "      <th>split9_train_score</th>\n",
       "      <th>mean_train_score</th>\n",
       "      <th>std_train_score</th>\n",
       "    </tr>\n",
       "  </thead>\n",
       "  <tbody>\n",
       "    <tr>\n",
       "      <td>7</td>\n",
       "      <td>0.296191</td>\n",
       "      <td>0.023213</td>\n",
       "      <td>0.005221</td>\n",
       "      <td>0.002017</td>\n",
       "      <td>0.5</td>\n",
       "      <td>True</td>\n",
       "      <td>{'alpha': 0.5, 'fit_prior': True}</td>\n",
       "      <td>0.921875</td>\n",
       "      <td>0.984375</td>\n",
       "      <td>0.921875</td>\n",
       "      <td>0.937500</td>\n",
       "      <td>0.875000</td>\n",
       "      <td>0.921875</td>\n",
       "      <td>0.937500</td>\n",
       "      <td>0.809524</td>\n",
       "      <td>0.935484</td>\n",
       "      <td>0.935484</td>\n",
       "      <td>0.918049</td>\n",
       "      <td>0.044089</td>\n",
       "      <td>1</td>\n",
       "      <td>0.996497</td>\n",
       "      <td>0.996497</td>\n",
       "      <td>0.996497</td>\n",
       "      <td>0.996497</td>\n",
       "      <td>0.996497</td>\n",
       "      <td>0.996497</td>\n",
       "      <td>0.996497</td>\n",
       "      <td>0.998252</td>\n",
       "      <td>0.998255</td>\n",
       "      <td>0.996510</td>\n",
       "      <td>0.996850</td>\n",
       "      <td>0.000702</td>\n",
       "    </tr>\n",
       "    <tr>\n",
       "      <td>8</td>\n",
       "      <td>0.271976</td>\n",
       "      <td>0.010759</td>\n",
       "      <td>0.004382</td>\n",
       "      <td>0.000840</td>\n",
       "      <td>1</td>\n",
       "      <td>False</td>\n",
       "      <td>{'alpha': 1, 'fit_prior': False}</td>\n",
       "      <td>0.968750</td>\n",
       "      <td>0.953125</td>\n",
       "      <td>0.921875</td>\n",
       "      <td>0.875000</td>\n",
       "      <td>0.859375</td>\n",
       "      <td>0.875000</td>\n",
       "      <td>0.921875</td>\n",
       "      <td>0.857143</td>\n",
       "      <td>0.967742</td>\n",
       "      <td>0.951613</td>\n",
       "      <td>0.915150</td>\n",
       "      <td>0.042662</td>\n",
       "      <td>2</td>\n",
       "      <td>0.998249</td>\n",
       "      <td>0.998249</td>\n",
       "      <td>0.998249</td>\n",
       "      <td>0.998249</td>\n",
       "      <td>0.998249</td>\n",
       "      <td>1.000000</td>\n",
       "      <td>0.998249</td>\n",
       "      <td>0.998252</td>\n",
       "      <td>0.998255</td>\n",
       "      <td>0.998255</td>\n",
       "      <td>0.998425</td>\n",
       "      <td>0.000525</td>\n",
       "    </tr>\n",
       "    <tr>\n",
       "      <td>6</td>\n",
       "      <td>0.340876</td>\n",
       "      <td>0.010389</td>\n",
       "      <td>0.005692</td>\n",
       "      <td>0.002376</td>\n",
       "      <td>0.5</td>\n",
       "      <td>False</td>\n",
       "      <td>{'alpha': 0.5, 'fit_prior': False}</td>\n",
       "      <td>0.968750</td>\n",
       "      <td>0.953125</td>\n",
       "      <td>0.906250</td>\n",
       "      <td>0.875000</td>\n",
       "      <td>0.843750</td>\n",
       "      <td>0.906250</td>\n",
       "      <td>0.875000</td>\n",
       "      <td>0.857143</td>\n",
       "      <td>0.983871</td>\n",
       "      <td>0.951613</td>\n",
       "      <td>0.912075</td>\n",
       "      <td>0.047030</td>\n",
       "      <td>3</td>\n",
       "      <td>0.998249</td>\n",
       "      <td>0.998249</td>\n",
       "      <td>0.998249</td>\n",
       "      <td>0.998249</td>\n",
       "      <td>0.998249</td>\n",
       "      <td>1.000000</td>\n",
       "      <td>0.998249</td>\n",
       "      <td>0.998252</td>\n",
       "      <td>0.998255</td>\n",
       "      <td>0.998255</td>\n",
       "      <td>0.998425</td>\n",
       "      <td>0.000525</td>\n",
       "    </tr>\n",
       "    <tr>\n",
       "      <td>5</td>\n",
       "      <td>0.365201</td>\n",
       "      <td>0.038453</td>\n",
       "      <td>0.007112</td>\n",
       "      <td>0.003291</td>\n",
       "      <td>0.1</td>\n",
       "      <td>True</td>\n",
       "      <td>{'alpha': 0.1, 'fit_prior': True}</td>\n",
       "      <td>0.953125</td>\n",
       "      <td>0.953125</td>\n",
       "      <td>0.906250</td>\n",
       "      <td>0.921875</td>\n",
       "      <td>0.843750</td>\n",
       "      <td>0.921875</td>\n",
       "      <td>0.859375</td>\n",
       "      <td>0.809524</td>\n",
       "      <td>0.935484</td>\n",
       "      <td>0.951613</td>\n",
       "      <td>0.905600</td>\n",
       "      <td>0.048219</td>\n",
       "      <td>4</td>\n",
       "      <td>0.996497</td>\n",
       "      <td>0.996497</td>\n",
       "      <td>0.996497</td>\n",
       "      <td>0.996497</td>\n",
       "      <td>0.996497</td>\n",
       "      <td>0.996497</td>\n",
       "      <td>0.996497</td>\n",
       "      <td>0.998252</td>\n",
       "      <td>0.998255</td>\n",
       "      <td>0.996510</td>\n",
       "      <td>0.996850</td>\n",
       "      <td>0.000702</td>\n",
       "    </tr>\n",
       "    <tr>\n",
       "      <td>1</td>\n",
       "      <td>0.353184</td>\n",
       "      <td>0.051893</td>\n",
       "      <td>0.008516</td>\n",
       "      <td>0.003668</td>\n",
       "      <td>0.001</td>\n",
       "      <td>True</td>\n",
       "      <td>{'alpha': 0.001, 'fit_prior': True}</td>\n",
       "      <td>0.953125</td>\n",
       "      <td>0.968750</td>\n",
       "      <td>0.859375</td>\n",
       "      <td>0.906250</td>\n",
       "      <td>0.828125</td>\n",
       "      <td>0.921875</td>\n",
       "      <td>0.875000</td>\n",
       "      <td>0.841270</td>\n",
       "      <td>0.903226</td>\n",
       "      <td>0.967742</td>\n",
       "      <td>0.902474</td>\n",
       "      <td>0.048472</td>\n",
       "      <td>5</td>\n",
       "      <td>0.996497</td>\n",
       "      <td>0.996497</td>\n",
       "      <td>0.996497</td>\n",
       "      <td>0.996497</td>\n",
       "      <td>0.996497</td>\n",
       "      <td>0.996497</td>\n",
       "      <td>0.996497</td>\n",
       "      <td>0.998252</td>\n",
       "      <td>0.998255</td>\n",
       "      <td>0.996510</td>\n",
       "      <td>0.996850</td>\n",
       "      <td>0.000702</td>\n",
       "    </tr>\n",
       "  </tbody>\n",
       "</table>\n",
       "</div>"
      ],
      "text/plain": [
       "   mean_fit_time  std_fit_time  mean_score_time  std_score_time param_alpha  \\\n",
       "7       0.296191      0.023213         0.005221        0.002017         0.5   \n",
       "8       0.271976      0.010759         0.004382        0.000840           1   \n",
       "6       0.340876      0.010389         0.005692        0.002376         0.5   \n",
       "5       0.365201      0.038453         0.007112        0.003291         0.1   \n",
       "1       0.353184      0.051893         0.008516        0.003668       0.001   \n",
       "\n",
       "  param_fit_prior                               params  split0_test_score  \\\n",
       "7            True    {'alpha': 0.5, 'fit_prior': True}           0.921875   \n",
       "8           False     {'alpha': 1, 'fit_prior': False}           0.968750   \n",
       "6           False   {'alpha': 0.5, 'fit_prior': False}           0.968750   \n",
       "5            True    {'alpha': 0.1, 'fit_prior': True}           0.953125   \n",
       "1            True  {'alpha': 0.001, 'fit_prior': True}           0.953125   \n",
       "\n",
       "   split1_test_score  split2_test_score  split3_test_score  split4_test_score  \\\n",
       "7           0.984375           0.921875           0.937500           0.875000   \n",
       "8           0.953125           0.921875           0.875000           0.859375   \n",
       "6           0.953125           0.906250           0.875000           0.843750   \n",
       "5           0.953125           0.906250           0.921875           0.843750   \n",
       "1           0.968750           0.859375           0.906250           0.828125   \n",
       "\n",
       "   split5_test_score  split6_test_score  split7_test_score  split8_test_score  \\\n",
       "7           0.921875           0.937500           0.809524           0.935484   \n",
       "8           0.875000           0.921875           0.857143           0.967742   \n",
       "6           0.906250           0.875000           0.857143           0.983871   \n",
       "5           0.921875           0.859375           0.809524           0.935484   \n",
       "1           0.921875           0.875000           0.841270           0.903226   \n",
       "\n",
       "   split9_test_score  mean_test_score  std_test_score  rank_test_score  \\\n",
       "7           0.935484         0.918049        0.044089                1   \n",
       "8           0.951613         0.915150        0.042662                2   \n",
       "6           0.951613         0.912075        0.047030                3   \n",
       "5           0.951613         0.905600        0.048219                4   \n",
       "1           0.967742         0.902474        0.048472                5   \n",
       "\n",
       "   split0_train_score  split1_train_score  split2_train_score  \\\n",
       "7            0.996497            0.996497            0.996497   \n",
       "8            0.998249            0.998249            0.998249   \n",
       "6            0.998249            0.998249            0.998249   \n",
       "5            0.996497            0.996497            0.996497   \n",
       "1            0.996497            0.996497            0.996497   \n",
       "\n",
       "   split3_train_score  split4_train_score  split5_train_score  \\\n",
       "7            0.996497            0.996497            0.996497   \n",
       "8            0.998249            0.998249            1.000000   \n",
       "6            0.998249            0.998249            1.000000   \n",
       "5            0.996497            0.996497            0.996497   \n",
       "1            0.996497            0.996497            0.996497   \n",
       "\n",
       "   split6_train_score  split7_train_score  split8_train_score  \\\n",
       "7            0.996497            0.998252            0.998255   \n",
       "8            0.998249            0.998252            0.998255   \n",
       "6            0.998249            0.998252            0.998255   \n",
       "5            0.996497            0.998252            0.998255   \n",
       "1            0.996497            0.998252            0.998255   \n",
       "\n",
       "   split9_train_score  mean_train_score  std_train_score  \n",
       "7            0.996510          0.996850         0.000702  \n",
       "8            0.998255          0.998425         0.000525  \n",
       "6            0.998255          0.998425         0.000525  \n",
       "5            0.996510          0.996850         0.000702  \n",
       "1            0.996510          0.996850         0.000702  "
      ]
     },
     "execution_count": 14,
     "metadata": {},
     "output_type": "execute_result"
    }
   ],
   "source": [
    "cls_nb_results_df.sort_values('mean_test_score', ascending = False)[:5]"
   ]
  },
  {
   "cell_type": "code",
   "execution_count": 15,
   "metadata": {},
   "outputs": [
    {
     "name": "stdout",
     "output_type": "stream",
     "text": [
      "Best Score: 91.8\n",
      "Best Parameters: {'alpha': 0.5, 'fit_prior': True}\n"
     ]
    }
   ],
   "source": [
    "print('Best Score: {}\\nBest Parameters: {}'.format(round(cls_nb_gscv_fit.best_score_ *100, 1) , cls_nb_gscv_fit.best_params_))"
   ]
  },
  {
   "cell_type": "markdown",
   "metadata": {},
   "source": [
    "# SVC Tunning"
   ]
  },
  {
   "cell_type": "code",
   "execution_count": 41,
   "metadata": {
    "collapsed": true,
    "jupyter": {
     "outputs_hidden": true
    }
   },
   "outputs": [
    {
     "ename": "KeyboardInterrupt",
     "evalue": "",
     "output_type": "error",
     "traceback": [
      "\u001b[0;31m---------------------------------------------------------------------------\u001b[0m",
      "\u001b[0;31mKeyboardInterrupt\u001b[0m                         Traceback (most recent call last)",
      "\u001b[0;32m<ipython-input-41-e77a69d51aba>\u001b[0m in \u001b[0;36m<module>\u001b[0;34m\u001b[0m\n\u001b[1;32m      7\u001b[0m \u001b[0;34m\u001b[0m\u001b[0m\n\u001b[1;32m      8\u001b[0m \u001b[0mcls_svc_gscv\u001b[0m \u001b[0;34m=\u001b[0m \u001b[0mGridSearchCV\u001b[0m\u001b[0;34m(\u001b[0m \u001b[0miid\u001b[0m \u001b[0;34m=\u001b[0m \u001b[0;32mFalse\u001b[0m\u001b[0;34m,\u001b[0m \u001b[0mestimator\u001b[0m \u001b[0;34m=\u001b[0m \u001b[0mcls_svc\u001b[0m\u001b[0;34m,\u001b[0m \u001b[0mparam_grid\u001b[0m \u001b[0;34m=\u001b[0m \u001b[0mpara_grid\u001b[0m\u001b[0;34m,\u001b[0m \u001b[0mcv\u001b[0m \u001b[0;34m=\u001b[0m \u001b[0;36m10\u001b[0m\u001b[0;34m,\u001b[0m \u001b[0mreturn_train_score\u001b[0m \u001b[0;34m=\u001b[0m \u001b[0;32mTrue\u001b[0m\u001b[0;34m)\u001b[0m\u001b[0;34m\u001b[0m\u001b[0;34m\u001b[0m\u001b[0m\n\u001b[0;32m----> 9\u001b[0;31m \u001b[0mcls_svc_gscv_fit\u001b[0m \u001b[0;34m=\u001b[0m\u001b[0mcls_svc_gscv\u001b[0m\u001b[0;34m.\u001b[0m\u001b[0mfit\u001b[0m\u001b[0;34m(\u001b[0m\u001b[0mtfidfVect_X_df\u001b[0m\u001b[0;34m.\u001b[0m\u001b[0mvalues\u001b[0m\u001b[0;34m,\u001b[0m \u001b[0my\u001b[0m\u001b[0;34m.\u001b[0m\u001b[0mvalues\u001b[0m\u001b[0;34m.\u001b[0m\u001b[0mravel\u001b[0m\u001b[0;34m(\u001b[0m\u001b[0;34m)\u001b[0m\u001b[0;34m)\u001b[0m\u001b[0;34m\u001b[0m\u001b[0;34m\u001b[0m\u001b[0m\n\u001b[0m\u001b[1;32m     10\u001b[0m \u001b[0;34m\u001b[0m\u001b[0m\n\u001b[1;32m     11\u001b[0m \u001b[0mcls_svc_results_df\u001b[0m \u001b[0;34m=\u001b[0m \u001b[0mpd\u001b[0m\u001b[0;34m.\u001b[0m\u001b[0mDataFrame\u001b[0m\u001b[0;34m(\u001b[0m\u001b[0mcls_svc_gscv_fit\u001b[0m\u001b[0;34m.\u001b[0m\u001b[0mcv_results_\u001b[0m\u001b[0;34m)\u001b[0m\u001b[0;34m\u001b[0m\u001b[0;34m\u001b[0m\u001b[0m\n",
      "\u001b[0;32m~/opt/anaconda3/lib/python3.7/site-packages/sklearn/model_selection/_search.py\u001b[0m in \u001b[0;36mfit\u001b[0;34m(self, X, y, groups, **fit_params)\u001b[0m\n\u001b[1;32m    686\u001b[0m                 \u001b[0;32mreturn\u001b[0m \u001b[0mresults\u001b[0m\u001b[0;34m\u001b[0m\u001b[0;34m\u001b[0m\u001b[0m\n\u001b[1;32m    687\u001b[0m \u001b[0;34m\u001b[0m\u001b[0m\n\u001b[0;32m--> 688\u001b[0;31m             \u001b[0mself\u001b[0m\u001b[0;34m.\u001b[0m\u001b[0m_run_search\u001b[0m\u001b[0;34m(\u001b[0m\u001b[0mevaluate_candidates\u001b[0m\u001b[0;34m)\u001b[0m\u001b[0;34m\u001b[0m\u001b[0;34m\u001b[0m\u001b[0m\n\u001b[0m\u001b[1;32m    689\u001b[0m \u001b[0;34m\u001b[0m\u001b[0m\n\u001b[1;32m    690\u001b[0m         \u001b[0;31m# For multi-metric evaluation, store the best_index_, best_params_ and\u001b[0m\u001b[0;34m\u001b[0m\u001b[0;34m\u001b[0m\u001b[0;34m\u001b[0m\u001b[0m\n",
      "\u001b[0;32m~/opt/anaconda3/lib/python3.7/site-packages/sklearn/model_selection/_search.py\u001b[0m in \u001b[0;36m_run_search\u001b[0;34m(self, evaluate_candidates)\u001b[0m\n\u001b[1;32m   1147\u001b[0m     \u001b[0;32mdef\u001b[0m \u001b[0m_run_search\u001b[0m\u001b[0;34m(\u001b[0m\u001b[0mself\u001b[0m\u001b[0;34m,\u001b[0m \u001b[0mevaluate_candidates\u001b[0m\u001b[0;34m)\u001b[0m\u001b[0;34m:\u001b[0m\u001b[0;34m\u001b[0m\u001b[0;34m\u001b[0m\u001b[0m\n\u001b[1;32m   1148\u001b[0m         \u001b[0;34m\"\"\"Search all candidates in param_grid\"\"\"\u001b[0m\u001b[0;34m\u001b[0m\u001b[0;34m\u001b[0m\u001b[0m\n\u001b[0;32m-> 1149\u001b[0;31m         \u001b[0mevaluate_candidates\u001b[0m\u001b[0;34m(\u001b[0m\u001b[0mParameterGrid\u001b[0m\u001b[0;34m(\u001b[0m\u001b[0mself\u001b[0m\u001b[0;34m.\u001b[0m\u001b[0mparam_grid\u001b[0m\u001b[0;34m)\u001b[0m\u001b[0;34m)\u001b[0m\u001b[0;34m\u001b[0m\u001b[0;34m\u001b[0m\u001b[0m\n\u001b[0m\u001b[1;32m   1150\u001b[0m \u001b[0;34m\u001b[0m\u001b[0m\n\u001b[1;32m   1151\u001b[0m \u001b[0;34m\u001b[0m\u001b[0m\n",
      "\u001b[0;32m~/opt/anaconda3/lib/python3.7/site-packages/sklearn/model_selection/_search.py\u001b[0m in \u001b[0;36mevaluate_candidates\u001b[0;34m(candidate_params)\u001b[0m\n\u001b[1;32m    665\u001b[0m                                \u001b[0;32mfor\u001b[0m \u001b[0mparameters\u001b[0m\u001b[0;34m,\u001b[0m \u001b[0;34m(\u001b[0m\u001b[0mtrain\u001b[0m\u001b[0;34m,\u001b[0m \u001b[0mtest\u001b[0m\u001b[0;34m)\u001b[0m\u001b[0;34m\u001b[0m\u001b[0;34m\u001b[0m\u001b[0m\n\u001b[1;32m    666\u001b[0m                                in product(candidate_params,\n\u001b[0;32m--> 667\u001b[0;31m                                           cv.split(X, y, groups)))\n\u001b[0m\u001b[1;32m    668\u001b[0m \u001b[0;34m\u001b[0m\u001b[0m\n\u001b[1;32m    669\u001b[0m                 \u001b[0;32mif\u001b[0m \u001b[0mlen\u001b[0m\u001b[0;34m(\u001b[0m\u001b[0mout\u001b[0m\u001b[0;34m)\u001b[0m \u001b[0;34m<\u001b[0m \u001b[0;36m1\u001b[0m\u001b[0;34m:\u001b[0m\u001b[0;34m\u001b[0m\u001b[0;34m\u001b[0m\u001b[0m\n",
      "\u001b[0;32m~/opt/anaconda3/lib/python3.7/site-packages/joblib/parallel.py\u001b[0m in \u001b[0;36m__call__\u001b[0;34m(self, iterable)\u001b[0m\n\u001b[1;32m    922\u001b[0m                 \u001b[0mself\u001b[0m\u001b[0;34m.\u001b[0m\u001b[0m_iterating\u001b[0m \u001b[0;34m=\u001b[0m \u001b[0mself\u001b[0m\u001b[0;34m.\u001b[0m\u001b[0m_original_iterator\u001b[0m \u001b[0;32mis\u001b[0m \u001b[0;32mnot\u001b[0m \u001b[0;32mNone\u001b[0m\u001b[0;34m\u001b[0m\u001b[0;34m\u001b[0m\u001b[0m\n\u001b[1;32m    923\u001b[0m \u001b[0;34m\u001b[0m\u001b[0m\n\u001b[0;32m--> 924\u001b[0;31m             \u001b[0;32mwhile\u001b[0m \u001b[0mself\u001b[0m\u001b[0;34m.\u001b[0m\u001b[0mdispatch_one_batch\u001b[0m\u001b[0;34m(\u001b[0m\u001b[0miterator\u001b[0m\u001b[0;34m)\u001b[0m\u001b[0;34m:\u001b[0m\u001b[0;34m\u001b[0m\u001b[0;34m\u001b[0m\u001b[0m\n\u001b[0m\u001b[1;32m    925\u001b[0m                 \u001b[0;32mpass\u001b[0m\u001b[0;34m\u001b[0m\u001b[0;34m\u001b[0m\u001b[0m\n\u001b[1;32m    926\u001b[0m \u001b[0;34m\u001b[0m\u001b[0m\n",
      "\u001b[0;32m~/opt/anaconda3/lib/python3.7/site-packages/joblib/parallel.py\u001b[0m in \u001b[0;36mdispatch_one_batch\u001b[0;34m(self, iterator)\u001b[0m\n\u001b[1;32m    757\u001b[0m                 \u001b[0;32mreturn\u001b[0m \u001b[0;32mFalse\u001b[0m\u001b[0;34m\u001b[0m\u001b[0;34m\u001b[0m\u001b[0m\n\u001b[1;32m    758\u001b[0m             \u001b[0;32melse\u001b[0m\u001b[0;34m:\u001b[0m\u001b[0;34m\u001b[0m\u001b[0;34m\u001b[0m\u001b[0m\n\u001b[0;32m--> 759\u001b[0;31m                 \u001b[0mself\u001b[0m\u001b[0;34m.\u001b[0m\u001b[0m_dispatch\u001b[0m\u001b[0;34m(\u001b[0m\u001b[0mtasks\u001b[0m\u001b[0;34m)\u001b[0m\u001b[0;34m\u001b[0m\u001b[0;34m\u001b[0m\u001b[0m\n\u001b[0m\u001b[1;32m    760\u001b[0m                 \u001b[0;32mreturn\u001b[0m \u001b[0;32mTrue\u001b[0m\u001b[0;34m\u001b[0m\u001b[0;34m\u001b[0m\u001b[0m\n\u001b[1;32m    761\u001b[0m \u001b[0;34m\u001b[0m\u001b[0m\n",
      "\u001b[0;32m~/opt/anaconda3/lib/python3.7/site-packages/joblib/parallel.py\u001b[0m in \u001b[0;36m_dispatch\u001b[0;34m(self, batch)\u001b[0m\n\u001b[1;32m    714\u001b[0m         \u001b[0;32mwith\u001b[0m \u001b[0mself\u001b[0m\u001b[0;34m.\u001b[0m\u001b[0m_lock\u001b[0m\u001b[0;34m:\u001b[0m\u001b[0;34m\u001b[0m\u001b[0;34m\u001b[0m\u001b[0m\n\u001b[1;32m    715\u001b[0m             \u001b[0mjob_idx\u001b[0m \u001b[0;34m=\u001b[0m \u001b[0mlen\u001b[0m\u001b[0;34m(\u001b[0m\u001b[0mself\u001b[0m\u001b[0;34m.\u001b[0m\u001b[0m_jobs\u001b[0m\u001b[0;34m)\u001b[0m\u001b[0;34m\u001b[0m\u001b[0;34m\u001b[0m\u001b[0m\n\u001b[0;32m--> 716\u001b[0;31m             \u001b[0mjob\u001b[0m \u001b[0;34m=\u001b[0m \u001b[0mself\u001b[0m\u001b[0;34m.\u001b[0m\u001b[0m_backend\u001b[0m\u001b[0;34m.\u001b[0m\u001b[0mapply_async\u001b[0m\u001b[0;34m(\u001b[0m\u001b[0mbatch\u001b[0m\u001b[0;34m,\u001b[0m \u001b[0mcallback\u001b[0m\u001b[0;34m=\u001b[0m\u001b[0mcb\u001b[0m\u001b[0;34m)\u001b[0m\u001b[0;34m\u001b[0m\u001b[0;34m\u001b[0m\u001b[0m\n\u001b[0m\u001b[1;32m    717\u001b[0m             \u001b[0;31m# A job can complete so quickly than its callback is\u001b[0m\u001b[0;34m\u001b[0m\u001b[0;34m\u001b[0m\u001b[0;34m\u001b[0m\u001b[0m\n\u001b[1;32m    718\u001b[0m             \u001b[0;31m# called before we get here, causing self._jobs to\u001b[0m\u001b[0;34m\u001b[0m\u001b[0;34m\u001b[0m\u001b[0;34m\u001b[0m\u001b[0m\n",
      "\u001b[0;32m~/opt/anaconda3/lib/python3.7/site-packages/joblib/_parallel_backends.py\u001b[0m in \u001b[0;36mapply_async\u001b[0;34m(self, func, callback)\u001b[0m\n\u001b[1;32m    180\u001b[0m     \u001b[0;32mdef\u001b[0m \u001b[0mapply_async\u001b[0m\u001b[0;34m(\u001b[0m\u001b[0mself\u001b[0m\u001b[0;34m,\u001b[0m \u001b[0mfunc\u001b[0m\u001b[0;34m,\u001b[0m \u001b[0mcallback\u001b[0m\u001b[0;34m=\u001b[0m\u001b[0;32mNone\u001b[0m\u001b[0;34m)\u001b[0m\u001b[0;34m:\u001b[0m\u001b[0;34m\u001b[0m\u001b[0;34m\u001b[0m\u001b[0m\n\u001b[1;32m    181\u001b[0m         \u001b[0;34m\"\"\"Schedule a func to be run\"\"\"\u001b[0m\u001b[0;34m\u001b[0m\u001b[0;34m\u001b[0m\u001b[0m\n\u001b[0;32m--> 182\u001b[0;31m         \u001b[0mresult\u001b[0m \u001b[0;34m=\u001b[0m \u001b[0mImmediateResult\u001b[0m\u001b[0;34m(\u001b[0m\u001b[0mfunc\u001b[0m\u001b[0;34m)\u001b[0m\u001b[0;34m\u001b[0m\u001b[0;34m\u001b[0m\u001b[0m\n\u001b[0m\u001b[1;32m    183\u001b[0m         \u001b[0;32mif\u001b[0m \u001b[0mcallback\u001b[0m\u001b[0;34m:\u001b[0m\u001b[0;34m\u001b[0m\u001b[0;34m\u001b[0m\u001b[0m\n\u001b[1;32m    184\u001b[0m             \u001b[0mcallback\u001b[0m\u001b[0;34m(\u001b[0m\u001b[0mresult\u001b[0m\u001b[0;34m)\u001b[0m\u001b[0;34m\u001b[0m\u001b[0;34m\u001b[0m\u001b[0m\n",
      "\u001b[0;32m~/opt/anaconda3/lib/python3.7/site-packages/joblib/_parallel_backends.py\u001b[0m in \u001b[0;36m__init__\u001b[0;34m(self, batch)\u001b[0m\n\u001b[1;32m    547\u001b[0m         \u001b[0;31m# Don't delay the application, to avoid keeping the input\u001b[0m\u001b[0;34m\u001b[0m\u001b[0;34m\u001b[0m\u001b[0;34m\u001b[0m\u001b[0m\n\u001b[1;32m    548\u001b[0m         \u001b[0;31m# arguments in memory\u001b[0m\u001b[0;34m\u001b[0m\u001b[0;34m\u001b[0m\u001b[0;34m\u001b[0m\u001b[0m\n\u001b[0;32m--> 549\u001b[0;31m         \u001b[0mself\u001b[0m\u001b[0;34m.\u001b[0m\u001b[0mresults\u001b[0m \u001b[0;34m=\u001b[0m \u001b[0mbatch\u001b[0m\u001b[0;34m(\u001b[0m\u001b[0;34m)\u001b[0m\u001b[0;34m\u001b[0m\u001b[0;34m\u001b[0m\u001b[0m\n\u001b[0m\u001b[1;32m    550\u001b[0m \u001b[0;34m\u001b[0m\u001b[0m\n\u001b[1;32m    551\u001b[0m     \u001b[0;32mdef\u001b[0m \u001b[0mget\u001b[0m\u001b[0;34m(\u001b[0m\u001b[0mself\u001b[0m\u001b[0;34m)\u001b[0m\u001b[0;34m:\u001b[0m\u001b[0;34m\u001b[0m\u001b[0;34m\u001b[0m\u001b[0m\n",
      "\u001b[0;32m~/opt/anaconda3/lib/python3.7/site-packages/joblib/parallel.py\u001b[0m in \u001b[0;36m__call__\u001b[0;34m(self)\u001b[0m\n\u001b[1;32m    223\u001b[0m         \u001b[0;32mwith\u001b[0m \u001b[0mparallel_backend\u001b[0m\u001b[0;34m(\u001b[0m\u001b[0mself\u001b[0m\u001b[0;34m.\u001b[0m\u001b[0m_backend\u001b[0m\u001b[0;34m,\u001b[0m \u001b[0mn_jobs\u001b[0m\u001b[0;34m=\u001b[0m\u001b[0mself\u001b[0m\u001b[0;34m.\u001b[0m\u001b[0m_n_jobs\u001b[0m\u001b[0;34m)\u001b[0m\u001b[0;34m:\u001b[0m\u001b[0;34m\u001b[0m\u001b[0;34m\u001b[0m\u001b[0m\n\u001b[1;32m    224\u001b[0m             return [func(*args, **kwargs)\n\u001b[0;32m--> 225\u001b[0;31m                     for func, args, kwargs in self.items]\n\u001b[0m\u001b[1;32m    226\u001b[0m \u001b[0;34m\u001b[0m\u001b[0m\n\u001b[1;32m    227\u001b[0m     \u001b[0;32mdef\u001b[0m \u001b[0m__len__\u001b[0m\u001b[0;34m(\u001b[0m\u001b[0mself\u001b[0m\u001b[0;34m)\u001b[0m\u001b[0;34m:\u001b[0m\u001b[0;34m\u001b[0m\u001b[0;34m\u001b[0m\u001b[0m\n",
      "\u001b[0;32m~/opt/anaconda3/lib/python3.7/site-packages/joblib/parallel.py\u001b[0m in \u001b[0;36m<listcomp>\u001b[0;34m(.0)\u001b[0m\n\u001b[1;32m    223\u001b[0m         \u001b[0;32mwith\u001b[0m \u001b[0mparallel_backend\u001b[0m\u001b[0;34m(\u001b[0m\u001b[0mself\u001b[0m\u001b[0;34m.\u001b[0m\u001b[0m_backend\u001b[0m\u001b[0;34m,\u001b[0m \u001b[0mn_jobs\u001b[0m\u001b[0;34m=\u001b[0m\u001b[0mself\u001b[0m\u001b[0;34m.\u001b[0m\u001b[0m_n_jobs\u001b[0m\u001b[0;34m)\u001b[0m\u001b[0;34m:\u001b[0m\u001b[0;34m\u001b[0m\u001b[0;34m\u001b[0m\u001b[0m\n\u001b[1;32m    224\u001b[0m             return [func(*args, **kwargs)\n\u001b[0;32m--> 225\u001b[0;31m                     for func, args, kwargs in self.items]\n\u001b[0m\u001b[1;32m    226\u001b[0m \u001b[0;34m\u001b[0m\u001b[0m\n\u001b[1;32m    227\u001b[0m     \u001b[0;32mdef\u001b[0m \u001b[0m__len__\u001b[0m\u001b[0;34m(\u001b[0m\u001b[0mself\u001b[0m\u001b[0;34m)\u001b[0m\u001b[0;34m:\u001b[0m\u001b[0;34m\u001b[0m\u001b[0;34m\u001b[0m\u001b[0m\n",
      "\u001b[0;32m~/opt/anaconda3/lib/python3.7/site-packages/sklearn/model_selection/_validation.py\u001b[0m in \u001b[0;36m_fit_and_score\u001b[0;34m(estimator, X, y, scorer, train, test, verbose, parameters, fit_params, return_train_score, return_parameters, return_n_test_samples, return_times, return_estimator, error_score)\u001b[0m\n\u001b[1;32m    554\u001b[0m         \u001b[0mfit_time\u001b[0m \u001b[0;34m=\u001b[0m \u001b[0mtime\u001b[0m\u001b[0;34m.\u001b[0m\u001b[0mtime\u001b[0m\u001b[0;34m(\u001b[0m\u001b[0;34m)\u001b[0m \u001b[0;34m-\u001b[0m \u001b[0mstart_time\u001b[0m\u001b[0;34m\u001b[0m\u001b[0;34m\u001b[0m\u001b[0m\n\u001b[1;32m    555\u001b[0m         \u001b[0;31m# _score will return dict if is_multimetric is True\u001b[0m\u001b[0;34m\u001b[0m\u001b[0;34m\u001b[0m\u001b[0;34m\u001b[0m\u001b[0m\n\u001b[0;32m--> 556\u001b[0;31m         \u001b[0mtest_scores\u001b[0m \u001b[0;34m=\u001b[0m \u001b[0m_score\u001b[0m\u001b[0;34m(\u001b[0m\u001b[0mestimator\u001b[0m\u001b[0;34m,\u001b[0m \u001b[0mX_test\u001b[0m\u001b[0;34m,\u001b[0m \u001b[0my_test\u001b[0m\u001b[0;34m,\u001b[0m \u001b[0mscorer\u001b[0m\u001b[0;34m,\u001b[0m \u001b[0mis_multimetric\u001b[0m\u001b[0;34m)\u001b[0m\u001b[0;34m\u001b[0m\u001b[0;34m\u001b[0m\u001b[0m\n\u001b[0m\u001b[1;32m    557\u001b[0m         \u001b[0mscore_time\u001b[0m \u001b[0;34m=\u001b[0m \u001b[0mtime\u001b[0m\u001b[0;34m.\u001b[0m\u001b[0mtime\u001b[0m\u001b[0;34m(\u001b[0m\u001b[0;34m)\u001b[0m \u001b[0;34m-\u001b[0m \u001b[0mstart_time\u001b[0m \u001b[0;34m-\u001b[0m \u001b[0mfit_time\u001b[0m\u001b[0;34m\u001b[0m\u001b[0;34m\u001b[0m\u001b[0m\n\u001b[1;32m    558\u001b[0m         \u001b[0;32mif\u001b[0m \u001b[0mreturn_train_score\u001b[0m\u001b[0;34m:\u001b[0m\u001b[0;34m\u001b[0m\u001b[0;34m\u001b[0m\u001b[0m\n",
      "\u001b[0;32m~/opt/anaconda3/lib/python3.7/site-packages/sklearn/model_selection/_validation.py\u001b[0m in \u001b[0;36m_score\u001b[0;34m(estimator, X_test, y_test, scorer, is_multimetric)\u001b[0m\n\u001b[1;32m    597\u001b[0m     \"\"\"\n\u001b[1;32m    598\u001b[0m     \u001b[0;32mif\u001b[0m \u001b[0mis_multimetric\u001b[0m\u001b[0;34m:\u001b[0m\u001b[0;34m\u001b[0m\u001b[0;34m\u001b[0m\u001b[0m\n\u001b[0;32m--> 599\u001b[0;31m         \u001b[0;32mreturn\u001b[0m \u001b[0m_multimetric_score\u001b[0m\u001b[0;34m(\u001b[0m\u001b[0mestimator\u001b[0m\u001b[0;34m,\u001b[0m \u001b[0mX_test\u001b[0m\u001b[0;34m,\u001b[0m \u001b[0my_test\u001b[0m\u001b[0;34m,\u001b[0m \u001b[0mscorer\u001b[0m\u001b[0;34m)\u001b[0m\u001b[0;34m\u001b[0m\u001b[0;34m\u001b[0m\u001b[0m\n\u001b[0m\u001b[1;32m    600\u001b[0m     \u001b[0;32melse\u001b[0m\u001b[0;34m:\u001b[0m\u001b[0;34m\u001b[0m\u001b[0;34m\u001b[0m\u001b[0m\n\u001b[1;32m    601\u001b[0m         \u001b[0;32mif\u001b[0m \u001b[0my_test\u001b[0m \u001b[0;32mis\u001b[0m \u001b[0;32mNone\u001b[0m\u001b[0;34m:\u001b[0m\u001b[0;34m\u001b[0m\u001b[0;34m\u001b[0m\u001b[0m\n",
      "\u001b[0;32m~/opt/anaconda3/lib/python3.7/site-packages/sklearn/model_selection/_validation.py\u001b[0m in \u001b[0;36m_multimetric_score\u001b[0;34m(estimator, X_test, y_test, scorers)\u001b[0m\n\u001b[1;32m    627\u001b[0m             \u001b[0mscore\u001b[0m \u001b[0;34m=\u001b[0m \u001b[0mscorer\u001b[0m\u001b[0;34m(\u001b[0m\u001b[0mestimator\u001b[0m\u001b[0;34m,\u001b[0m \u001b[0mX_test\u001b[0m\u001b[0;34m)\u001b[0m\u001b[0;34m\u001b[0m\u001b[0;34m\u001b[0m\u001b[0m\n\u001b[1;32m    628\u001b[0m         \u001b[0;32melse\u001b[0m\u001b[0;34m:\u001b[0m\u001b[0;34m\u001b[0m\u001b[0;34m\u001b[0m\u001b[0m\n\u001b[0;32m--> 629\u001b[0;31m             \u001b[0mscore\u001b[0m \u001b[0;34m=\u001b[0m \u001b[0mscorer\u001b[0m\u001b[0;34m(\u001b[0m\u001b[0mestimator\u001b[0m\u001b[0;34m,\u001b[0m \u001b[0mX_test\u001b[0m\u001b[0;34m,\u001b[0m \u001b[0my_test\u001b[0m\u001b[0;34m)\u001b[0m\u001b[0;34m\u001b[0m\u001b[0;34m\u001b[0m\u001b[0m\n\u001b[0m\u001b[1;32m    630\u001b[0m \u001b[0;34m\u001b[0m\u001b[0m\n\u001b[1;32m    631\u001b[0m         \u001b[0;32mif\u001b[0m \u001b[0mhasattr\u001b[0m\u001b[0;34m(\u001b[0m\u001b[0mscore\u001b[0m\u001b[0;34m,\u001b[0m \u001b[0;34m'item'\u001b[0m\u001b[0;34m)\u001b[0m\u001b[0;34m:\u001b[0m\u001b[0;34m\u001b[0m\u001b[0;34m\u001b[0m\u001b[0m\n",
      "\u001b[0;32m~/opt/anaconda3/lib/python3.7/site-packages/sklearn/metrics/scorer.py\u001b[0m in \u001b[0;36m_passthrough_scorer\u001b[0;34m(estimator, *args, **kwargs)\u001b[0m\n\u001b[1;32m    238\u001b[0m \u001b[0;32mdef\u001b[0m \u001b[0m_passthrough_scorer\u001b[0m\u001b[0;34m(\u001b[0m\u001b[0mestimator\u001b[0m\u001b[0;34m,\u001b[0m \u001b[0;34m*\u001b[0m\u001b[0margs\u001b[0m\u001b[0;34m,\u001b[0m \u001b[0;34m**\u001b[0m\u001b[0mkwargs\u001b[0m\u001b[0;34m)\u001b[0m\u001b[0;34m:\u001b[0m\u001b[0;34m\u001b[0m\u001b[0;34m\u001b[0m\u001b[0m\n\u001b[1;32m    239\u001b[0m     \u001b[0;34m\"\"\"Function that wraps estimator.score\"\"\"\u001b[0m\u001b[0;34m\u001b[0m\u001b[0;34m\u001b[0m\u001b[0m\n\u001b[0;32m--> 240\u001b[0;31m     \u001b[0;32mreturn\u001b[0m \u001b[0mestimator\u001b[0m\u001b[0;34m.\u001b[0m\u001b[0mscore\u001b[0m\u001b[0;34m(\u001b[0m\u001b[0;34m*\u001b[0m\u001b[0margs\u001b[0m\u001b[0;34m,\u001b[0m \u001b[0;34m**\u001b[0m\u001b[0mkwargs\u001b[0m\u001b[0;34m)\u001b[0m\u001b[0;34m\u001b[0m\u001b[0;34m\u001b[0m\u001b[0m\n\u001b[0m\u001b[1;32m    241\u001b[0m \u001b[0;34m\u001b[0m\u001b[0m\n\u001b[1;32m    242\u001b[0m \u001b[0;34m\u001b[0m\u001b[0m\n",
      "\u001b[0;32m~/opt/anaconda3/lib/python3.7/site-packages/sklearn/base.py\u001b[0m in \u001b[0;36mscore\u001b[0;34m(self, X, y, sample_weight)\u001b[0m\n\u001b[1;32m    355\u001b[0m         \"\"\"\n\u001b[1;32m    356\u001b[0m         \u001b[0;32mfrom\u001b[0m \u001b[0;34m.\u001b[0m\u001b[0mmetrics\u001b[0m \u001b[0;32mimport\u001b[0m \u001b[0maccuracy_score\u001b[0m\u001b[0;34m\u001b[0m\u001b[0;34m\u001b[0m\u001b[0m\n\u001b[0;32m--> 357\u001b[0;31m         \u001b[0;32mreturn\u001b[0m \u001b[0maccuracy_score\u001b[0m\u001b[0;34m(\u001b[0m\u001b[0my\u001b[0m\u001b[0;34m,\u001b[0m \u001b[0mself\u001b[0m\u001b[0;34m.\u001b[0m\u001b[0mpredict\u001b[0m\u001b[0;34m(\u001b[0m\u001b[0mX\u001b[0m\u001b[0;34m)\u001b[0m\u001b[0;34m,\u001b[0m \u001b[0msample_weight\u001b[0m\u001b[0;34m=\u001b[0m\u001b[0msample_weight\u001b[0m\u001b[0;34m)\u001b[0m\u001b[0;34m\u001b[0m\u001b[0;34m\u001b[0m\u001b[0m\n\u001b[0m\u001b[1;32m    358\u001b[0m \u001b[0;34m\u001b[0m\u001b[0m\n\u001b[1;32m    359\u001b[0m \u001b[0;34m\u001b[0m\u001b[0m\n",
      "\u001b[0;32m~/opt/anaconda3/lib/python3.7/site-packages/sklearn/svm/base.py\u001b[0m in \u001b[0;36mpredict\u001b[0;34m(self, X)\u001b[0m\n\u001b[1;32m    572\u001b[0m             \u001b[0mClass\u001b[0m \u001b[0mlabels\u001b[0m \u001b[0;32mfor\u001b[0m \u001b[0msamples\u001b[0m \u001b[0;32min\u001b[0m \u001b[0mX\u001b[0m\u001b[0;34m.\u001b[0m\u001b[0;34m\u001b[0m\u001b[0;34m\u001b[0m\u001b[0m\n\u001b[1;32m    573\u001b[0m         \"\"\"\n\u001b[0;32m--> 574\u001b[0;31m         \u001b[0my\u001b[0m \u001b[0;34m=\u001b[0m \u001b[0msuper\u001b[0m\u001b[0;34m(\u001b[0m\u001b[0;34m)\u001b[0m\u001b[0;34m.\u001b[0m\u001b[0mpredict\u001b[0m\u001b[0;34m(\u001b[0m\u001b[0mX\u001b[0m\u001b[0;34m)\u001b[0m\u001b[0;34m\u001b[0m\u001b[0;34m\u001b[0m\u001b[0m\n\u001b[0m\u001b[1;32m    575\u001b[0m         \u001b[0;32mreturn\u001b[0m \u001b[0mself\u001b[0m\u001b[0;34m.\u001b[0m\u001b[0mclasses_\u001b[0m\u001b[0;34m.\u001b[0m\u001b[0mtake\u001b[0m\u001b[0;34m(\u001b[0m\u001b[0mnp\u001b[0m\u001b[0;34m.\u001b[0m\u001b[0masarray\u001b[0m\u001b[0;34m(\u001b[0m\u001b[0my\u001b[0m\u001b[0;34m,\u001b[0m \u001b[0mdtype\u001b[0m\u001b[0;34m=\u001b[0m\u001b[0mnp\u001b[0m\u001b[0;34m.\u001b[0m\u001b[0mintp\u001b[0m\u001b[0;34m)\u001b[0m\u001b[0;34m)\u001b[0m\u001b[0;34m\u001b[0m\u001b[0;34m\u001b[0m\u001b[0m\n\u001b[1;32m    576\u001b[0m \u001b[0;34m\u001b[0m\u001b[0m\n",
      "\u001b[0;32m~/opt/anaconda3/lib/python3.7/site-packages/sklearn/svm/base.py\u001b[0m in \u001b[0;36mpredict\u001b[0;34m(self, X)\u001b[0m\n\u001b[1;32m    322\u001b[0m         \u001b[0mX\u001b[0m \u001b[0;34m=\u001b[0m \u001b[0mself\u001b[0m\u001b[0;34m.\u001b[0m\u001b[0m_validate_for_predict\u001b[0m\u001b[0;34m(\u001b[0m\u001b[0mX\u001b[0m\u001b[0;34m)\u001b[0m\u001b[0;34m\u001b[0m\u001b[0;34m\u001b[0m\u001b[0m\n\u001b[1;32m    323\u001b[0m         \u001b[0mpredict\u001b[0m \u001b[0;34m=\u001b[0m \u001b[0mself\u001b[0m\u001b[0;34m.\u001b[0m\u001b[0m_sparse_predict\u001b[0m \u001b[0;32mif\u001b[0m \u001b[0mself\u001b[0m\u001b[0;34m.\u001b[0m\u001b[0m_sparse\u001b[0m \u001b[0;32melse\u001b[0m \u001b[0mself\u001b[0m\u001b[0;34m.\u001b[0m\u001b[0m_dense_predict\u001b[0m\u001b[0;34m\u001b[0m\u001b[0;34m\u001b[0m\u001b[0m\n\u001b[0;32m--> 324\u001b[0;31m         \u001b[0;32mreturn\u001b[0m \u001b[0mpredict\u001b[0m\u001b[0;34m(\u001b[0m\u001b[0mX\u001b[0m\u001b[0;34m)\u001b[0m\u001b[0;34m\u001b[0m\u001b[0;34m\u001b[0m\u001b[0m\n\u001b[0m\u001b[1;32m    325\u001b[0m \u001b[0;34m\u001b[0m\u001b[0m\n\u001b[1;32m    326\u001b[0m     \u001b[0;32mdef\u001b[0m \u001b[0m_dense_predict\u001b[0m\u001b[0;34m(\u001b[0m\u001b[0mself\u001b[0m\u001b[0;34m,\u001b[0m \u001b[0mX\u001b[0m\u001b[0;34m)\u001b[0m\u001b[0;34m:\u001b[0m\u001b[0;34m\u001b[0m\u001b[0;34m\u001b[0m\u001b[0m\n",
      "\u001b[0;32m~/opt/anaconda3/lib/python3.7/site-packages/sklearn/svm/base.py\u001b[0m in \u001b[0;36m_dense_predict\u001b[0;34m(self, X)\u001b[0m\n\u001b[1;32m    344\u001b[0m             \u001b[0mself\u001b[0m\u001b[0;34m.\u001b[0m\u001b[0mprobA_\u001b[0m\u001b[0;34m,\u001b[0m \u001b[0mself\u001b[0m\u001b[0;34m.\u001b[0m\u001b[0mprobB_\u001b[0m\u001b[0;34m,\u001b[0m \u001b[0msvm_type\u001b[0m\u001b[0;34m=\u001b[0m\u001b[0msvm_type\u001b[0m\u001b[0;34m,\u001b[0m \u001b[0mkernel\u001b[0m\u001b[0;34m=\u001b[0m\u001b[0mkernel\u001b[0m\u001b[0;34m,\u001b[0m\u001b[0;34m\u001b[0m\u001b[0;34m\u001b[0m\u001b[0m\n\u001b[1;32m    345\u001b[0m             \u001b[0mdegree\u001b[0m\u001b[0;34m=\u001b[0m\u001b[0mself\u001b[0m\u001b[0;34m.\u001b[0m\u001b[0mdegree\u001b[0m\u001b[0;34m,\u001b[0m \u001b[0mcoef0\u001b[0m\u001b[0;34m=\u001b[0m\u001b[0mself\u001b[0m\u001b[0;34m.\u001b[0m\u001b[0mcoef0\u001b[0m\u001b[0;34m,\u001b[0m \u001b[0mgamma\u001b[0m\u001b[0;34m=\u001b[0m\u001b[0mself\u001b[0m\u001b[0;34m.\u001b[0m\u001b[0m_gamma\u001b[0m\u001b[0;34m,\u001b[0m\u001b[0;34m\u001b[0m\u001b[0;34m\u001b[0m\u001b[0m\n\u001b[0;32m--> 346\u001b[0;31m             cache_size=self.cache_size)\n\u001b[0m\u001b[1;32m    347\u001b[0m \u001b[0;34m\u001b[0m\u001b[0m\n\u001b[1;32m    348\u001b[0m     \u001b[0;32mdef\u001b[0m \u001b[0m_sparse_predict\u001b[0m\u001b[0;34m(\u001b[0m\u001b[0mself\u001b[0m\u001b[0;34m,\u001b[0m \u001b[0mX\u001b[0m\u001b[0;34m)\u001b[0m\u001b[0;34m:\u001b[0m\u001b[0;34m\u001b[0m\u001b[0;34m\u001b[0m\u001b[0m\n",
      "\u001b[0;31mKeyboardInterrupt\u001b[0m: "
     ]
    }
   ],
   "source": [
    "# GridSearchCV\n",
    "cls_svc = SVC()\n",
    "\n",
    "para_grid = { 'C': [0.001, 0.01, 0.1, 1, 10],\n",
    "              'kernel' : ['linear', 'rbf'],\n",
    "              'gamma'  : [0.1, 1, 10, 100]}\n",
    "\n",
    "cls_svc_gscv = GridSearchCV( iid = False, estimator = cls_svc, param_grid = para_grid, cv = 10, return_train_score = True)\n",
    "cls_svc_gscv_fit =cls_svc_gscv.fit(tfidfVect_X_df.values, y.values.ravel())\n",
    "\n",
    "cls_svc_results_df = pd.DataFrame(cls_svc_gscv_fit.cv_results_)"
   ]
  },
  {
   "cell_type": "markdown",
   "metadata": {},
   "source": [
    "Generally speaking, SVC perform better in all metrixes compared to MultinomialNB by fractions however, comparing the time it takes to fit/ optimize.... etc. The MultinomialNB takes just few seconds (around 3 to 4 second) unlike the SVC which takes more than 25 mins. Therefore, I would go for the MultinomialNB model. \n",
    "\n",
    "**NOTE**<br>\n",
    "For this project I will not add the extracted additional features, I will use the TFIDF features created as my input only for the model."
   ]
  },
  {
   "cell_type": "markdown",
   "metadata": {},
   "source": [
    "# Predict New Tweets Samples"
   ]
  },
  {
   "cell_type": "code",
   "execution_count": 17,
   "metadata": {},
   "outputs": [
    {
     "name": "stdout",
     "output_type": "stream",
     "text": [
      "0 Donald Trump\n",
      "1 Barak Obama\n",
      "2 Donald Trump\n",
      "3 Barak Obama\n",
      "4 Donald Trump\n",
      "5 Barak Obama\n",
      "6 Donald Trump\n"
     ]
    }
   ],
   "source": [
    "T1 = 'Nancy just said she “just doesn’t understand why?” Very simply, without a Wall it all doesn’t work. Our Country has a chance to greatly reduce Crime, Human Trafficking, Gangs and Drugs. Should have been done for decades. We will not Cave!'\n",
    "T2 = 'Without a Wall there cannot be safety and security at the Border or for the U.S.A. BUILD THE WALL AND CRIME WILL FALL!'\n",
    "T3 = 'The Fake News Media loves saying “so little happened at my first summit with Kim Jong Un.” Wrong! After 40 years of doing nothing with North Korea but being taken to the cleaners, & with a major war ready to start, in a short 15 months, relationships built, hostages & remains....'\n",
    "\n",
    "O1 = 'I’ve always drawn inspiration from what Dr. King called life’s most persistent and urgent question: \"What are you doing for others?\" Let’s honor his legacy by standing up for what is right in our communities and taking steps to make a positive impact on the world.'\n",
    "O2 = 'In 2018 people stepped up and showed up like never before. Keep it up in 2019. We’ve got a lot of work to do, and I’ll be right there with you. Happy New Year, everybody!'\n",
    "O3 = 'I hope you find inspiration in the stories of Dejah, Moussa, Sandor, Hong and Jonny. Their journeys began with a decision to build the better future they wanted to see. The same is true for you. What matters isn’t the size of the step you take; what matters is that you take it.'\n",
    "\n",
    "Q3 = 'Nadler just said that I “pressured Ukraine to interfere in our 2020 Election.” Ridiculous, and he knows that is not true. Both the President & Foreign Minister of Ukraine said, many times, that there “WAS NO PRESSURE.” Nadler and the Dems know this, but refuse to acknowledge!'\n",
    "\n",
    "tweets_list = [T1, O1, T2, O2, T3, O3, Q3]\n",
    "\n",
    "for indx, tweet in enumerate(tweets_list):\n",
    "    result = cls_nb_gscv_fit.predict(tfidf_vectorize.transform([tweet])).item()\n",
    "    print(indx, 'Donald Trump' if result == 0 else 'Barak Obama')\n"
   ]
  },
  {
   "cell_type": "code",
   "execution_count": 18,
   "metadata": {},
   "outputs": [],
   "source": [
    "import joblib"
   ]
  },
  {
   "cell_type": "code",
   "execution_count": 19,
   "metadata": {},
   "outputs": [
    {
     "data": {
      "text/plain": [
       "['ot_classifier.sav']"
      ]
     },
     "execution_count": 19,
     "metadata": {},
     "output_type": "execute_result"
    }
   ],
   "source": [
    "joblib.dump(cls_nb_gscv_fit, 'ot_classifier.sav')"
   ]
  },
  {
   "cell_type": "code",
   "execution_count": 20,
   "metadata": {},
   "outputs": [
    {
     "data": {
      "text/plain": [
       "['tfidf_transformer.sav']"
      ]
     },
     "execution_count": 20,
     "metadata": {},
     "output_type": "execute_result"
    }
   ],
   "source": [
    "joblib.dump(tfidf_vectorize, 'tfidf_transformer.sav')\n"
   ]
  }
 ],
 "metadata": {
  "kernelspec": {
   "display_name": "Python 3",
   "language": "python",
   "name": "python3"
  },
  "language_info": {
   "codemirror_mode": {
    "name": "ipython",
    "version": 3
   },
   "file_extension": ".py",
   "mimetype": "text/x-python",
   "name": "python",
   "nbconvert_exporter": "python",
   "pygments_lexer": "ipython3",
   "version": "3.7.4"
  }
 },
 "nbformat": 4,
 "nbformat_minor": 4
}
